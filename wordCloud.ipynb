{
 "cells": [
  {
   "cell_type": "code",
   "execution_count": 3,
   "metadata": {
    "collapsed": true
   },
   "outputs": [
    {
     "name": "stdout",
     "output_type": "stream",
     "text": [
      "Requirement already satisfied: wordcloud in /Users/pranavtomar/opt/anaconda3/lib/python3.8/site-packages (1.8.0)\r\n",
      "Requirement already satisfied: numpy>=1.6.1 in /Users/pranavtomar/opt/anaconda3/lib/python3.8/site-packages (from wordcloud) (1.18.5)\r\n",
      "Requirement already satisfied: matplotlib in /Users/pranavtomar/opt/anaconda3/lib/python3.8/site-packages (from wordcloud) (3.2.2)\r\n",
      "Requirement already satisfied: pillow in /Users/pranavtomar/opt/anaconda3/lib/python3.8/site-packages (from wordcloud) (7.2.0)\r\n",
      "Requirement already satisfied: kiwisolver>=1.0.1 in /Users/pranavtomar/opt/anaconda3/lib/python3.8/site-packages (from matplotlib->wordcloud) (1.2.0)\r\n",
      "Requirement already satisfied: pyparsing!=2.0.4,!=2.1.2,!=2.1.6,>=2.0.1 in /Users/pranavtomar/opt/anaconda3/lib/python3.8/site-packages (from matplotlib->wordcloud) (2.4.7)\r\n",
      "Requirement already satisfied: cycler>=0.10 in /Users/pranavtomar/opt/anaconda3/lib/python3.8/site-packages (from matplotlib->wordcloud) (0.10.0)\r\n",
      "Requirement already satisfied: python-dateutil>=2.1 in /Users/pranavtomar/opt/anaconda3/lib/python3.8/site-packages (from matplotlib->wordcloud) (2.8.1)\r\n",
      "Requirement already satisfied: six in /Users/pranavtomar/opt/anaconda3/lib/python3.8/site-packages (from cycler>=0.10->matplotlib->wordcloud) (1.15.0)\r\n",
      "Requirement already satisfied: fileupload in /Users/pranavtomar/opt/anaconda3/lib/python3.8/site-packages (0.1.5)\r\n",
      "Requirement already satisfied: ipywidgets>=5.1 in /Users/pranavtomar/opt/anaconda3/lib/python3.8/site-packages (from fileupload) (7.5.1)\r\n",
      "Requirement already satisfied: notebook>=4.2 in /Users/pranavtomar/opt/anaconda3/lib/python3.8/site-packages (from fileupload) (6.0.3)\r\n",
      "Requirement already satisfied: traitlets>=4.2 in /Users/pranavtomar/opt/anaconda3/lib/python3.8/site-packages (from fileupload) (4.3.3)\r\n",
      "Requirement already satisfied: widgetsnbextension~=3.5.0 in /Users/pranavtomar/opt/anaconda3/lib/python3.8/site-packages (from ipywidgets>=5.1->fileupload) (3.5.1)\r\n",
      "Requirement already satisfied: ipykernel>=4.5.1 in /Users/pranavtomar/opt/anaconda3/lib/python3.8/site-packages (from ipywidgets>=5.1->fileupload) (5.3.2)\r\n",
      "Requirement already satisfied: ipython>=4.0.0; python_version >= \"3.3\" in /Users/pranavtomar/opt/anaconda3/lib/python3.8/site-packages (from ipywidgets>=5.1->fileupload) (7.16.1)\r\n",
      "Requirement already satisfied: nbformat>=4.2.0 in /Users/pranavtomar/opt/anaconda3/lib/python3.8/site-packages (from ipywidgets>=5.1->fileupload) (5.0.7)\r\n",
      "Requirement already satisfied: Send2Trash in /Users/pranavtomar/opt/anaconda3/lib/python3.8/site-packages (from notebook>=4.2->fileupload) (1.5.0)\r\n",
      "Requirement already satisfied: pyzmq>=17 in /Users/pranavtomar/opt/anaconda3/lib/python3.8/site-packages (from notebook>=4.2->fileupload) (19.0.1)\r\n",
      "Requirement already satisfied: terminado>=0.8.1 in /Users/pranavtomar/opt/anaconda3/lib/python3.8/site-packages (from notebook>=4.2->fileupload) (0.8.3)\r\n",
      "Requirement already satisfied: jupyter-client>=5.3.4 in /Users/pranavtomar/opt/anaconda3/lib/python3.8/site-packages (from notebook>=4.2->fileupload) (6.1.6)\r\n",
      "Requirement already satisfied: ipython-genutils in /Users/pranavtomar/opt/anaconda3/lib/python3.8/site-packages (from notebook>=4.2->fileupload) (0.2.0)\r\n",
      "Requirement already satisfied: jupyter-core>=4.6.1 in /Users/pranavtomar/opt/anaconda3/lib/python3.8/site-packages (from notebook>=4.2->fileupload) (4.6.3)\r\n",
      "Requirement already satisfied: nbconvert in /Users/pranavtomar/opt/anaconda3/lib/python3.8/site-packages (from notebook>=4.2->fileupload) (5.6.1)\r\n",
      "Requirement already satisfied: prometheus-client in /Users/pranavtomar/opt/anaconda3/lib/python3.8/site-packages (from notebook>=4.2->fileupload) (0.8.0)\r\n",
      "Requirement already satisfied: tornado>=5.0 in /Users/pranavtomar/opt/anaconda3/lib/python3.8/site-packages (from notebook>=4.2->fileupload) (6.0.4)\r\n",
      "Requirement already satisfied: jinja2 in /Users/pranavtomar/opt/anaconda3/lib/python3.8/site-packages (from notebook>=4.2->fileupload) (2.11.2)\r\n",
      "Requirement already satisfied: six in /Users/pranavtomar/opt/anaconda3/lib/python3.8/site-packages (from traitlets>=4.2->fileupload) (1.15.0)\r\n",
      "Requirement already satisfied: decorator in /Users/pranavtomar/opt/anaconda3/lib/python3.8/site-packages (from traitlets>=4.2->fileupload) (4.4.2)\r\n",
      "Requirement already satisfied: appnope; platform_system == \"Darwin\" in /Users/pranavtomar/opt/anaconda3/lib/python3.8/site-packages (from ipykernel>=4.5.1->ipywidgets>=5.1->fileupload) (0.1.0)\r\n",
      "Requirement already satisfied: pickleshare in /Users/pranavtomar/opt/anaconda3/lib/python3.8/site-packages (from ipython>=4.0.0; python_version >= \"3.3\"->ipywidgets>=5.1->fileupload) (0.7.5)\r\n",
      "Requirement already satisfied: prompt-toolkit!=3.0.0,!=3.0.1,<3.1.0,>=2.0.0 in /Users/pranavtomar/opt/anaconda3/lib/python3.8/site-packages (from ipython>=4.0.0; python_version >= \"3.3\"->ipywidgets>=5.1->fileupload) (3.0.5)\r\n",
      "Requirement already satisfied: backcall in /Users/pranavtomar/opt/anaconda3/lib/python3.8/site-packages (from ipython>=4.0.0; python_version >= \"3.3\"->ipywidgets>=5.1->fileupload) (0.2.0)\r\n",
      "Requirement already satisfied: pexpect; sys_platform != \"win32\" in /Users/pranavtomar/opt/anaconda3/lib/python3.8/site-packages (from ipython>=4.0.0; python_version >= \"3.3\"->ipywidgets>=5.1->fileupload) (4.8.0)\r\n",
      "Requirement already satisfied: jedi>=0.10 in /Users/pranavtomar/opt/anaconda3/lib/python3.8/site-packages (from ipython>=4.0.0; python_version >= \"3.3\"->ipywidgets>=5.1->fileupload) (0.17.1)\r\n",
      "Requirement already satisfied: setuptools>=18.5 in /Users/pranavtomar/opt/anaconda3/lib/python3.8/site-packages (from ipython>=4.0.0; python_version >= \"3.3\"->ipywidgets>=5.1->fileupload) (49.2.0.post20200714)\r\n",
      "Requirement already satisfied: pygments in /Users/pranavtomar/opt/anaconda3/lib/python3.8/site-packages (from ipython>=4.0.0; python_version >= \"3.3\"->ipywidgets>=5.1->fileupload) (2.6.1)\r\n",
      "Requirement already satisfied: jsonschema!=2.5.0,>=2.4 in /Users/pranavtomar/opt/anaconda3/lib/python3.8/site-packages (from nbformat>=4.2.0->ipywidgets>=5.1->fileupload) (3.2.0)\r\n",
      "Requirement already satisfied: python-dateutil>=2.1 in /Users/pranavtomar/opt/anaconda3/lib/python3.8/site-packages (from jupyter-client>=5.3.4->notebook>=4.2->fileupload) (2.8.1)\r\n",
      "Requirement already satisfied: bleach in /Users/pranavtomar/opt/anaconda3/lib/python3.8/site-packages (from nbconvert->notebook>=4.2->fileupload) (3.1.5)\r\n",
      "Requirement already satisfied: defusedxml in /Users/pranavtomar/opt/anaconda3/lib/python3.8/site-packages (from nbconvert->notebook>=4.2->fileupload) (0.6.0)\r\n",
      "Requirement already satisfied: entrypoints>=0.2.2 in /Users/pranavtomar/opt/anaconda3/lib/python3.8/site-packages (from nbconvert->notebook>=4.2->fileupload) (0.3)\r\n",
      "Requirement already satisfied: testpath in /Users/pranavtomar/opt/anaconda3/lib/python3.8/site-packages (from nbconvert->notebook>=4.2->fileupload) (0.4.4)\r\n",
      "Requirement already satisfied: pandocfilters>=1.4.1 in /Users/pranavtomar/opt/anaconda3/lib/python3.8/site-packages (from nbconvert->notebook>=4.2->fileupload) (1.4.2)\r\n",
      "Requirement already satisfied: mistune<2,>=0.8.1 in /Users/pranavtomar/opt/anaconda3/lib/python3.8/site-packages (from nbconvert->notebook>=4.2->fileupload) (0.8.4)\r\n",
      "Requirement already satisfied: MarkupSafe>=0.23 in /Users/pranavtomar/opt/anaconda3/lib/python3.8/site-packages (from jinja2->notebook>=4.2->fileupload) (1.1.1)\r\n",
      "Requirement already satisfied: wcwidth in /Users/pranavtomar/opt/anaconda3/lib/python3.8/site-packages (from prompt-toolkit!=3.0.0,!=3.0.1,<3.1.0,>=2.0.0->ipython>=4.0.0; python_version >= \"3.3\"->ipywidgets>=5.1->fileupload) (0.2.5)\r\n",
      "Requirement already satisfied: ptyprocess>=0.5 in /Users/pranavtomar/opt/anaconda3/lib/python3.8/site-packages (from pexpect; sys_platform != \"win32\"->ipython>=4.0.0; python_version >= \"3.3\"->ipywidgets>=5.1->fileupload) (0.6.0)\r\n",
      "Requirement already satisfied: parso<0.8.0,>=0.7.0 in /Users/pranavtomar/opt/anaconda3/lib/python3.8/site-packages (from jedi>=0.10->ipython>=4.0.0; python_version >= \"3.3\"->ipywidgets>=5.1->fileupload) (0.7.0)\r\n",
      "Requirement already satisfied: pyrsistent>=0.14.0 in /Users/pranavtomar/opt/anaconda3/lib/python3.8/site-packages (from jsonschema!=2.5.0,>=2.4->nbformat>=4.2.0->ipywidgets>=5.1->fileupload) (0.16.0)\r\n",
      "Requirement already satisfied: attrs>=17.4.0 in /Users/pranavtomar/opt/anaconda3/lib/python3.8/site-packages (from jsonschema!=2.5.0,>=2.4->nbformat>=4.2.0->ipywidgets>=5.1->fileupload) (19.3.0)\r\n",
      "Requirement already satisfied: webencodings in /Users/pranavtomar/opt/anaconda3/lib/python3.8/site-packages (from bleach->nbconvert->notebook>=4.2->fileupload) (0.5.1)\r\n",
      "Requirement already satisfied: packaging in /Users/pranavtomar/opt/anaconda3/lib/python3.8/site-packages (from bleach->nbconvert->notebook>=4.2->fileupload) (20.4)\r\n",
      "Requirement already satisfied: pyparsing>=2.0.2 in /Users/pranavtomar/opt/anaconda3/lib/python3.8/site-packages (from packaging->bleach->nbconvert->notebook>=4.2->fileupload) (2.4.7)\r\n",
      "Requirement already satisfied: ipywidgets in /Users/pranavtomar/opt/anaconda3/lib/python3.8/site-packages (7.5.1)\r\n",
      "Requirement already satisfied: ipykernel>=4.5.1 in /Users/pranavtomar/opt/anaconda3/lib/python3.8/site-packages (from ipywidgets) (5.3.2)\r\n",
      "Requirement already satisfied: nbformat>=4.2.0 in /Users/pranavtomar/opt/anaconda3/lib/python3.8/site-packages (from ipywidgets) (5.0.7)\r\n",
      "Requirement already satisfied: traitlets>=4.3.1 in /Users/pranavtomar/opt/anaconda3/lib/python3.8/site-packages (from ipywidgets) (4.3.3)\r\n",
      "Requirement already satisfied: ipython>=4.0.0; python_version >= \"3.3\" in /Users/pranavtomar/opt/anaconda3/lib/python3.8/site-packages (from ipywidgets) (7.16.1)\r\n",
      "Requirement already satisfied: widgetsnbextension~=3.5.0 in /Users/pranavtomar/opt/anaconda3/lib/python3.8/site-packages (from ipywidgets) (3.5.1)\r\n",
      "Requirement already satisfied: tornado>=4.2 in /Users/pranavtomar/opt/anaconda3/lib/python3.8/site-packages (from ipykernel>=4.5.1->ipywidgets) (6.0.4)\r\n",
      "Requirement already satisfied: appnope; platform_system == \"Darwin\" in /Users/pranavtomar/opt/anaconda3/lib/python3.8/site-packages (from ipykernel>=4.5.1->ipywidgets) (0.1.0)\r\n",
      "Requirement already satisfied: jupyter-client in /Users/pranavtomar/opt/anaconda3/lib/python3.8/site-packages (from ipykernel>=4.5.1->ipywidgets) (6.1.6)\r\n",
      "Requirement already satisfied: ipython-genutils in /Users/pranavtomar/opt/anaconda3/lib/python3.8/site-packages (from nbformat>=4.2.0->ipywidgets) (0.2.0)\r\n",
      "Requirement already satisfied: jupyter-core in /Users/pranavtomar/opt/anaconda3/lib/python3.8/site-packages (from nbformat>=4.2.0->ipywidgets) (4.6.3)\r\n",
      "Requirement already satisfied: jsonschema!=2.5.0,>=2.4 in /Users/pranavtomar/opt/anaconda3/lib/python3.8/site-packages (from nbformat>=4.2.0->ipywidgets) (3.2.0)\r\n",
      "Requirement already satisfied: decorator in /Users/pranavtomar/opt/anaconda3/lib/python3.8/site-packages (from traitlets>=4.3.1->ipywidgets) (4.4.2)\r\n",
      "Requirement already satisfied: six in /Users/pranavtomar/opt/anaconda3/lib/python3.8/site-packages (from traitlets>=4.3.1->ipywidgets) (1.15.0)\r\n",
      "Requirement already satisfied: setuptools>=18.5 in /Users/pranavtomar/opt/anaconda3/lib/python3.8/site-packages (from ipython>=4.0.0; python_version >= \"3.3\"->ipywidgets) (49.2.0.post20200714)\r\n",
      "Requirement already satisfied: pickleshare in /Users/pranavtomar/opt/anaconda3/lib/python3.8/site-packages (from ipython>=4.0.0; python_version >= \"3.3\"->ipywidgets) (0.7.5)\r\n",
      "Requirement already satisfied: pygments in /Users/pranavtomar/opt/anaconda3/lib/python3.8/site-packages (from ipython>=4.0.0; python_version >= \"3.3\"->ipywidgets) (2.6.1)\r\n",
      "Requirement already satisfied: backcall in /Users/pranavtomar/opt/anaconda3/lib/python3.8/site-packages (from ipython>=4.0.0; python_version >= \"3.3\"->ipywidgets) (0.2.0)\r\n",
      "Requirement already satisfied: pexpect; sys_platform != \"win32\" in /Users/pranavtomar/opt/anaconda3/lib/python3.8/site-packages (from ipython>=4.0.0; python_version >= \"3.3\"->ipywidgets) (4.8.0)\r\n",
      "Requirement already satisfied: jedi>=0.10 in /Users/pranavtomar/opt/anaconda3/lib/python3.8/site-packages (from ipython>=4.0.0; python_version >= \"3.3\"->ipywidgets) (0.17.1)\r\n",
      "Requirement already satisfied: prompt-toolkit!=3.0.0,!=3.0.1,<3.1.0,>=2.0.0 in /Users/pranavtomar/opt/anaconda3/lib/python3.8/site-packages (from ipython>=4.0.0; python_version >= \"3.3\"->ipywidgets) (3.0.5)\r\n",
      "Requirement already satisfied: notebook>=4.4.1 in /Users/pranavtomar/opt/anaconda3/lib/python3.8/site-packages (from widgetsnbextension~=3.5.0->ipywidgets) (6.0.3)\r\n",
      "Requirement already satisfied: python-dateutil>=2.1 in /Users/pranavtomar/opt/anaconda3/lib/python3.8/site-packages (from jupyter-client->ipykernel>=4.5.1->ipywidgets) (2.8.1)\r\n",
      "Requirement already satisfied: pyzmq>=13 in /Users/pranavtomar/opt/anaconda3/lib/python3.8/site-packages (from jupyter-client->ipykernel>=4.5.1->ipywidgets) (19.0.1)\r\n",
      "Requirement already satisfied: attrs>=17.4.0 in /Users/pranavtomar/opt/anaconda3/lib/python3.8/site-packages (from jsonschema!=2.5.0,>=2.4->nbformat>=4.2.0->ipywidgets) (19.3.0)\r\n",
      "Requirement already satisfied: pyrsistent>=0.14.0 in /Users/pranavtomar/opt/anaconda3/lib/python3.8/site-packages (from jsonschema!=2.5.0,>=2.4->nbformat>=4.2.0->ipywidgets) (0.16.0)\r\n",
      "Requirement already satisfied: ptyprocess>=0.5 in /Users/pranavtomar/opt/anaconda3/lib/python3.8/site-packages (from pexpect; sys_platform != \"win32\"->ipython>=4.0.0; python_version >= \"3.3\"->ipywidgets) (0.6.0)\r\n",
      "Requirement already satisfied: parso<0.8.0,>=0.7.0 in /Users/pranavtomar/opt/anaconda3/lib/python3.8/site-packages (from jedi>=0.10->ipython>=4.0.0; python_version >= \"3.3\"->ipywidgets) (0.7.0)\r\n",
      "Requirement already satisfied: wcwidth in /Users/pranavtomar/opt/anaconda3/lib/python3.8/site-packages (from prompt-toolkit!=3.0.0,!=3.0.1,<3.1.0,>=2.0.0->ipython>=4.0.0; python_version >= \"3.3\"->ipywidgets) (0.2.5)\r\n",
      "Requirement already satisfied: terminado>=0.8.1 in /Users/pranavtomar/opt/anaconda3/lib/python3.8/site-packages (from notebook>=4.4.1->widgetsnbextension~=3.5.0->ipywidgets) (0.8.3)\r\n",
      "Requirement already satisfied: Send2Trash in /Users/pranavtomar/opt/anaconda3/lib/python3.8/site-packages (from notebook>=4.4.1->widgetsnbextension~=3.5.0->ipywidgets) (1.5.0)\r\n",
      "Requirement already satisfied: jinja2 in /Users/pranavtomar/opt/anaconda3/lib/python3.8/site-packages (from notebook>=4.4.1->widgetsnbextension~=3.5.0->ipywidgets) (2.11.2)\r\n",
      "Requirement already satisfied: nbconvert in /Users/pranavtomar/opt/anaconda3/lib/python3.8/site-packages (from notebook>=4.4.1->widgetsnbextension~=3.5.0->ipywidgets) (5.6.1)\r\n",
      "Requirement already satisfied: prometheus-client in /Users/pranavtomar/opt/anaconda3/lib/python3.8/site-packages (from notebook>=4.4.1->widgetsnbextension~=3.5.0->ipywidgets) (0.8.0)\r\n",
      "Requirement already satisfied: MarkupSafe>=0.23 in /Users/pranavtomar/opt/anaconda3/lib/python3.8/site-packages (from jinja2->notebook>=4.4.1->widgetsnbextension~=3.5.0->ipywidgets) (1.1.1)\r\n",
      "Requirement already satisfied: mistune<2,>=0.8.1 in /Users/pranavtomar/opt/anaconda3/lib/python3.8/site-packages (from nbconvert->notebook>=4.4.1->widgetsnbextension~=3.5.0->ipywidgets) (0.8.4)\r\n",
      "Requirement already satisfied: defusedxml in /Users/pranavtomar/opt/anaconda3/lib/python3.8/site-packages (from nbconvert->notebook>=4.4.1->widgetsnbextension~=3.5.0->ipywidgets) (0.6.0)\r\n",
      "Requirement already satisfied: entrypoints>=0.2.2 in /Users/pranavtomar/opt/anaconda3/lib/python3.8/site-packages (from nbconvert->notebook>=4.4.1->widgetsnbextension~=3.5.0->ipywidgets) (0.3)\r\n",
      "Requirement already satisfied: bleach in /Users/pranavtomar/opt/anaconda3/lib/python3.8/site-packages (from nbconvert->notebook>=4.4.1->widgetsnbextension~=3.5.0->ipywidgets) (3.1.5)\r\n",
      "Requirement already satisfied: testpath in /Users/pranavtomar/opt/anaconda3/lib/python3.8/site-packages (from nbconvert->notebook>=4.4.1->widgetsnbextension~=3.5.0->ipywidgets) (0.4.4)\r\n",
      "Requirement already satisfied: pandocfilters>=1.4.1 in /Users/pranavtomar/opt/anaconda3/lib/python3.8/site-packages (from nbconvert->notebook>=4.4.1->widgetsnbextension~=3.5.0->ipywidgets) (1.4.2)\r\n",
      "Requirement already satisfied: webencodings in /Users/pranavtomar/opt/anaconda3/lib/python3.8/site-packages (from bleach->nbconvert->notebook>=4.4.1->widgetsnbextension~=3.5.0->ipywidgets) (0.5.1)\r\n",
      "Requirement already satisfied: packaging in /Users/pranavtomar/opt/anaconda3/lib/python3.8/site-packages (from bleach->nbconvert->notebook>=4.4.1->widgetsnbextension~=3.5.0->ipywidgets) (20.4)\r\n",
      "Requirement already satisfied: pyparsing>=2.0.2 in /Users/pranavtomar/opt/anaconda3/lib/python3.8/site-packages (from packaging->bleach->nbconvert->notebook>=4.4.1->widgetsnbextension~=3.5.0->ipywidgets) (2.4.7)\r\n",
      "Installing /Users/pranavtomar/opt/anaconda3/lib/python3.8/site-packages/fileupload/static -> fileupload\r\n",
      "Up to date: /Users/pranavtomar/Library/Jupyter/nbextensions/fileupload/widget.js\r\n",
      "Up to date: /Users/pranavtomar/Library/Jupyter/nbextensions/fileupload/extension.js\r\n",
      "Up to date: /Users/pranavtomar/Library/Jupyter/nbextensions/fileupload/fileupload/widget.js\r\n",
      "- Validating: \u001B[32mOK\u001B[0m\r\n",
      "\r\n",
      "    To initialize this nbextension in the browser every time the notebook (or other app) loads:\r\n",
      "    \r\n",
      "          jupyter nbextension enable fileupload --user --py\r\n",
      "    \r\n",
      "Enabling notebook extension fileupload/extension...\r\n",
      "      - Validating: \u001B[32mOK\u001B[0m\r\n"
     ]
    }
   ],
   "source": [
    "!pip install wordcloud\n",
    "!pip install fileupload\n",
    "!pip install ipywidgets\n",
    "!jupyter nbextension install --py --user fileupload\n",
    "!jupyter nbextension enable --py fileupload"
   ]
  },
  {
   "cell_type": "code",
   "execution_count": 8,
   "outputs": [],
   "source": [
    "import wordcloud\n",
    "import numpy as np\n",
    "import matplotlib.pyplot as plt\n",
    "from IPython.display import display\n",
    "import fileupload\n",
    "import io\n",
    "import sys\n",
    "\n",
    "%matplotlib inline\n",
    "\n"
   ],
   "metadata": {
    "collapsed": false,
    "pycharm": {
     "name": "#%%\n"
    }
   }
  },
  {
   "cell_type": "code",
   "execution_count": 10,
   "outputs": [
    {
     "data": {
      "text/plain": "FileUploadWidget(label='Browse', _dom_classes=('widget_item', 'btn-group'))",
      "application/vnd.jupyter.widget-view+json": {
       "version_major": 2,
       "version_minor": 0,
       "model_id": "7162cfbfae9e4d75b2df3d2c85e87d35"
      }
     },
     "metadata": {},
     "output_type": "display_data"
    }
   ],
   "source": [
    "def _upload():\n",
    "\n",
    "    _upload_widget = fileupload.FileUploadWidget()\n",
    "\n",
    "    def _cb(change):\n",
    "        global file_contents\n",
    "        decoded = io.StringIO(change['owner'].data.decode('utf-8'))\n",
    "        filename = change['owner'].filename\n",
    "        print('Uploaded `{}` ({:.2k} kB)'.format(\n",
    "            filename, len(decoded.read())/ 2**10))\n",
    "\n",
    "        file_contents = decoded.getvalue()\n",
    "\n",
    "    _upload_widget.observe(_cb, names='data')\n",
    "    display(_upload_widget)\n",
    "\n",
    "_upload()"
   ],
   "metadata": {
    "collapsed": false,
    "pycharm": {
     "name": "#%%\n"
    }
   }
  },
  {
   "cell_type": "code",
   "execution_count": 12,
   "outputs": [],
   "source": [
    "def calculate_frequencies(file_contents):\n",
    "    # Here is a list of punctuations and uninteresting words you can use to process your text\n",
    "    punctuations = '''!()-[]{};:'\"\\,<>./?@#$%^&*_~'''\n",
    "    uninteresting_words = [\"the\", \"a\", \"to\", \"if\", \"is\", \"it\", \"of\", \"and\", \"or\", \"an\", \"as\", \"i\", \"me\", \"my\", \\\n",
    "    \"we\", \"our\", \"ours\", \"you\", \"your\", \"yours\", \"he\", \"she\", \"him\", \"his\", \"her\", \"hers\", \"its\", \"they\", \"them\", \\\n",
    "    \"their\", \"what\", \"which\", \"who\", \"whom\", \"this\", \"that\", \"am\", \"are\", \"was\", \"were\", \"be\", \"been\", \"being\", \\\n",
    "    \"have\", \"has\", \"had\", \"do\", \"does\", \"did\", \"but\", \"at\", \"by\", \"with\", \"from\", \"here\", \"when\", \"where\", \"how\", \\\n",
    "    \"all\", \"any\", \"both\", \"each\", \"few\", \"more\", \"some\", \"such\", \"no\", \"nor\", \"too\", \"very\", \"can\", \"will\", \"just\"]\n",
    "\n",
    "    # LEARNER CODE START HERE\n",
    "    frequencies =  {}\n",
    "    taken = []\n",
    "    for letter in punctuations:\n",
    "        file_contents =  file_contents.replace(letter,'')\n",
    "    for word in uninteresting_words:\n",
    "        w = ' '+word+' '\n",
    "        file_contents = file_contents.replace(w,' ')\n",
    "    for word in file_contents.split():\n",
    "        if word.lower() not in taken:\n",
    "            taken.append(word.lower())\n",
    "            if word not in frequencies:\n",
    "                frequencies[word] = 1\n",
    "            else:\n",
    "                frequencies[word] += 1\n",
    "    #wordcloud\n",
    "    cloud = wordcloud.WordCloud()\n",
    "    cloud.generate_from_frequencies(frequencies)\n",
    "    return cloud.to_array()"
   ],
   "metadata": {
    "collapsed": false,
    "pycharm": {
     "name": "#%%\n"
    }
   }
  },
  {
   "cell_type": "code",
   "execution_count": 13,
   "outputs": [
    {
     "ename": "NameError",
     "evalue": "name 'file_contents' is not defined",
     "output_type": "error",
     "traceback": [
      "\u001B[0;31m---------------------------------------------------------------------------\u001B[0m",
      "\u001B[0;31mNameError\u001B[0m                                 Traceback (most recent call last)",
      "\u001B[0;32m<ipython-input-13-b809bd213fd1>\u001B[0m in \u001B[0;36m<module>\u001B[0;34m\u001B[0m\n\u001B[1;32m      1\u001B[0m \u001B[0;31m# Display your wordcloud image\u001B[0m\u001B[0;34m\u001B[0m\u001B[0;34m\u001B[0m\u001B[0;34m\u001B[0m\u001B[0m\n\u001B[1;32m      2\u001B[0m \u001B[0;34m\u001B[0m\u001B[0m\n\u001B[0;32m----> 3\u001B[0;31m \u001B[0mmyimage\u001B[0m \u001B[0;34m=\u001B[0m \u001B[0mcalculate_frequencies\u001B[0m\u001B[0;34m(\u001B[0m\u001B[0mfile_contents\u001B[0m\u001B[0;34m)\u001B[0m\u001B[0;34m\u001B[0m\u001B[0;34m\u001B[0m\u001B[0m\n\u001B[0m\u001B[1;32m      4\u001B[0m \u001B[0mplt\u001B[0m\u001B[0;34m.\u001B[0m\u001B[0mimshow\u001B[0m\u001B[0;34m(\u001B[0m\u001B[0mmyimage\u001B[0m\u001B[0;34m,\u001B[0m \u001B[0minterpolation\u001B[0m \u001B[0;34m=\u001B[0m \u001B[0;34m'nearest'\u001B[0m\u001B[0;34m)\u001B[0m\u001B[0;34m\u001B[0m\u001B[0;34m\u001B[0m\u001B[0m\n\u001B[1;32m      5\u001B[0m \u001B[0mplt\u001B[0m\u001B[0;34m.\u001B[0m\u001B[0maxis\u001B[0m\u001B[0;34m(\u001B[0m\u001B[0;34m'off'\u001B[0m\u001B[0;34m)\u001B[0m\u001B[0;34m\u001B[0m\u001B[0;34m\u001B[0m\u001B[0m\n",
      "\u001B[0;31mNameError\u001B[0m: name 'file_contents' is not defined"
     ]
    }
   ],
   "source": [
    "# Display your wordcloud image\n",
    "\n",
    "myimage = calculate_frequencies(file_contents)\n",
    "plt.imshow(myimage, interpolation = 'nearest')\n",
    "plt.axis('off')\n",
    "plt.show()"
   ],
   "metadata": {
    "collapsed": false,
    "pycharm": {
     "name": "#%%\n"
    }
   }
  },
  {
   "cell_type": "code",
   "execution_count": null,
   "outputs": [],
   "source": [
    "\n"
   ],
   "metadata": {
    "collapsed": false,
    "pycharm": {
     "name": "#%%\n"
    }
   }
  }
 ],
 "metadata": {
  "kernelspec": {
   "display_name": "Python 3",
   "language": "python",
   "name": "python3"
  },
  "language_info": {
   "codemirror_mode": {
    "name": "ipython",
    "version": 2
   },
   "file_extension": ".py",
   "mimetype": "text/x-python",
   "name": "python",
   "nbconvert_exporter": "python",
   "pygments_lexer": "ipython2",
   "version": "2.7.6"
  }
 },
 "nbformat": 4,
 "nbformat_minor": 0
}